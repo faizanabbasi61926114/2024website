{
 "cells": [
  {
   "cell_type": "markdown",
   "metadata": {
    "papermill": {
     "duration": 0.00852,
     "end_time": "2025-01-04T13:08:53.465695",
     "exception": false,
     "start_time": "2025-01-04T13:08:53.457175",
     "status": "completed"
    },
    "tags": []
   },
   "source": [
    "# Simple MNIST NN from scratch\n",
    "\n",
    "In this notebook, I implemented a simple two-layer neural network and trained it on the MNIST digit recognizer dataset. It's meant to be an instructional example, through which you can understand the underlying math of neural networks better.\n",
    "\n",
    "Here's a video I made explaining all the math and showing my progress as I coded the network: https://youtu.be/w8yWXqWQYmU"
   ]
  },
  {
   "cell_type": "code",
   "execution_count": 1,
   "metadata": {
    "_cell_guid": "b1076dfc-b9ad-4769-8c92-a6c4dae69d19",
    "_uuid": "8f2839f25d086af736a60e9eeb907d3b93b6e0e5",
    "execution": {
     "iopub.execute_input": "2025-01-04T13:08:53.488486Z",
     "iopub.status.busy": "2025-01-04T13:08:53.487781Z",
     "iopub.status.idle": "2025-01-04T13:08:56.922180Z",
     "shell.execute_reply": "2025-01-04T13:08:56.921332Z",
     "shell.execute_reply.started": "2025-01-04T12:51:39.994324Z"
    },
    "papermill": {
     "duration": 3.447689,
     "end_time": "2025-01-04T13:08:56.922308",
     "exception": false,
     "start_time": "2025-01-04T13:08:53.474619",
     "status": "completed"
    },
    "tags": []
   },
   "outputs": [],
   "source": [
    "import numpy as np\n",
    "import pandas as pd\n",
    "from matplotlib import pyplot as plt\n",
    "\n",
    "data = pd.read_csv('/kaggle/input/digit-recognizer/train.csv')"
   ]
  },
  {
   "cell_type": "code",
   "execution_count": 2,
   "metadata": {
    "execution": {
     "iopub.execute_input": "2025-01-04T13:08:56.946753Z",
     "iopub.status.busy": "2025-01-04T13:08:56.946059Z",
     "iopub.status.idle": "2025-01-04T13:08:57.708693Z",
     "shell.execute_reply": "2025-01-04T13:08:57.707993Z",
     "shell.execute_reply.started": "2025-01-04T12:51:42.643403Z"
    },
    "papermill": {
     "duration": 0.779535,
     "end_time": "2025-01-04T13:08:57.708822",
     "exception": false,
     "start_time": "2025-01-04T13:08:56.929287",
     "status": "completed"
    },
    "tags": []
   },
   "outputs": [],
   "source": [
    "data = np.array(data)\n",
    "m, n = data.shape\n",
    "np.random.shuffle(data) # shuffle before splitting into dev and training sets\n",
    "\n",
    "data_dev = data[0:1000].T\n",
    "Y_dev = data_dev[0]\n",
    "X_dev = data_dev[1:n]\n",
    "X_dev = X_dev / 255.\n",
    "\n",
    "data_train = data[1000:m].T\n",
    "Y_train = data_train[0]\n",
    "X_train = data_train[1:n]\n",
    "X_train = X_train / 255.\n",
    "_,m_train = X_train.shape"
   ]
  },
  {
   "cell_type": "code",
   "execution_count": 3,
   "metadata": {
    "execution": {
     "iopub.execute_input": "2025-01-04T13:08:57.733159Z",
     "iopub.status.busy": "2025-01-04T13:08:57.732175Z",
     "iopub.status.idle": "2025-01-04T13:08:57.734834Z",
     "shell.execute_reply": "2025-01-04T13:08:57.735243Z",
     "shell.execute_reply.started": "2025-01-04T12:51:43.558201Z"
    },
    "papermill": {
     "duration": 0.019681,
     "end_time": "2025-01-04T13:08:57.735390",
     "exception": false,
     "start_time": "2025-01-04T13:08:57.715709",
     "status": "completed"
    },
    "tags": []
   },
   "outputs": [],
   "source": [
    "def get_predictions(A2):\n",
    "    return np.argmax(A2, 0)\n",
    "\n",
    "def get_accuracy(predictions, Y):\n",
    "    print(predictions, Y)\n",
    "    return np.sum(predictions == Y) / Y.size\n",
    "\n",
    "def gradient_descent(X, Y, alpha, iterations):\n",
    "    W1, b1, W2, b2 = init_params()\n",
    "    for i in range(iterations):\n",
    "        Z1, A1, Z2, A2 = forward_prop(W1, b1, W2, b2, X)\n",
    "        dW1, db1, dW2, db2 = backward_prop(Z1, A1, Z2, A2, W1, W2, X, Y)\n",
    "        W1, b1, W2, b2 = update_params(W1, b1, W2, b2, dW1, db1, dW2, db2, alpha)\n",
    "        if i % 10 == 0:\n",
    "            print(\"Iteration: \", i)\n",
    "            predictions = get_predictions(A2)\n",
    "            print(get_accuracy(predictions, Y))\n",
    "    return W1, b1, W2, b2"
   ]
  },
  {
   "cell_type": "code",
   "execution_count": 4,
   "metadata": {
    "execution": {
     "iopub.execute_input": "2025-01-04T13:08:57.757122Z",
     "iopub.status.busy": "2025-01-04T13:08:57.756204Z",
     "iopub.status.idle": "2025-01-04T13:08:57.760241Z",
     "shell.execute_reply": "2025-01-04T13:08:57.760740Z",
     "shell.execute_reply.started": "2025-01-04T12:51:43.523485Z"
    },
    "papermill": {
     "duration": 0.018552,
     "end_time": "2025-01-04T13:08:57.760886",
     "exception": false,
     "start_time": "2025-01-04T13:08:57.742334",
     "status": "completed"
    },
    "tags": []
   },
   "outputs": [
    {
     "data": {
      "text/plain": [
       "array([0, 5, 6, ..., 1, 3, 5])"
      ]
     },
     "execution_count": 4,
     "metadata": {},
     "output_type": "execute_result"
    }
   ],
   "source": [
    "Y_train"
   ]
  },
  {
   "cell_type": "code",
   "execution_count": 5,
   "metadata": {
    "execution": {
     "iopub.execute_input": "2025-01-04T13:08:57.791045Z",
     "iopub.status.busy": "2025-01-04T13:08:57.789985Z",
     "iopub.status.idle": "2025-01-04T13:08:57.793179Z",
     "shell.execute_reply": "2025-01-04T13:08:57.792599Z",
     "shell.execute_reply.started": "2025-01-04T12:51:43.536696Z"
    },
    "papermill": {
     "duration": 0.024713,
     "end_time": "2025-01-04T13:08:57.793292",
     "exception": false,
     "start_time": "2025-01-04T13:08:57.768579",
     "status": "completed"
    },
    "tags": []
   },
   "outputs": [],
   "source": [
    "def init_params():\n",
    "    W1 = np.random.rand(10, 784) - 0.5\n",
    "    b1 = np.random.rand(10, 1) - 0.5\n",
    "    W2 = np.random.rand(10, 10) - 0.5\n",
    "    b2 = np.random.rand(10, 1) - 0.5\n",
    "    return W1, b1, W2, b2\n",
    "\n",
    "def ReLU(Z):\n",
    "    return np.maximum(Z, 0)\n",
    "\n",
    "def softmax(Z):\n",
    "    A = np.exp(Z) / sum(np.exp(Z))\n",
    "    return A\n",
    "    \n",
    "def forward_prop(W1, b1, W2, b2, X):\n",
    "    Z1 = W1.dot(X) + b1\n",
    "    A1 = ReLU(Z1)\n",
    "    Z2 = W2.dot(A1) + b2\n",
    "    A2 = softmax(Z2)\n",
    "    return Z1, A1, Z2, A2\n",
    "\n",
    "def ReLU_deriv(Z):\n",
    "    return Z > 0\n",
    "\n",
    "def one_hot(Y):\n",
    "    one_hot_Y = np.zeros((Y.size, Y.max() + 1))\n",
    "    one_hot_Y[np.arange(Y.size), Y] = 1\n",
    "    one_hot_Y = one_hot_Y.T\n",
    "    return one_hot_Y\n",
    "\n",
    "def backward_prop(Z1, A1, Z2, A2, W1, W2, X, Y):\n",
    "    one_hot_Y = one_hot(Y)\n",
    "    dZ2 = A2 - one_hot_Y\n",
    "    dW2 = 1 / m * dZ2.dot(A1.T)\n",
    "    db2 = 1 / m * np.sum(dZ2)\n",
    "    dZ1 = W2.T.dot(dZ2) * ReLU_deriv(Z1)\n",
    "    dW1 = 1 / m * dZ1.dot(X.T)\n",
    "    db1 = 1 / m * np.sum(dZ1)\n",
    "    return dW1, db1, dW2, db2\n",
    "\n",
    "def update_params(W1, b1, W2, b2, dW1, db1, dW2, db2, alpha):\n",
    "    W1 = W1 - alpha * dW1\n",
    "    b1 = b1 - alpha * db1    \n",
    "    W2 = W2 - alpha * dW2  \n",
    "    b2 = b2 - alpha * db2    \n",
    "    return W1, b1, W2, b2"
   ]
  },
  {
   "cell_type": "code",
   "execution_count": 6,
   "metadata": {
    "execution": {
     "iopub.execute_input": "2025-01-04T13:08:57.812574Z",
     "iopub.status.busy": "2025-01-04T13:08:57.811915Z",
     "iopub.status.idle": "2025-01-04T13:09:41.833547Z",
     "shell.execute_reply": "2025-01-04T13:09:41.832811Z",
     "shell.execute_reply.started": "2025-01-04T12:51:43.574646Z"
    },
    "papermill": {
     "duration": 44.03314,
     "end_time": "2025-01-04T13:09:41.833704",
     "exception": false,
     "start_time": "2025-01-04T13:08:57.800564",
     "status": "completed"
    },
    "tags": []
   },
   "outputs": [
    {
     "name": "stdout",
     "output_type": "stream",
     "text": [
      "Iteration:  0\n",
      "[1 5 1 ... 5 5 0] [0 5 6 ... 1 3 5]\n",
      "0.07765853658536585\n",
      "Iteration:  10\n",
      "[3 0 8 ... 3 2 0] [0 5 6 ... 1 3 5]\n",
      "0.142390243902439\n",
      "Iteration:  20\n",
      "[1 0 8 ... 1 2 0] [0 5 6 ... 1 3 5]\n",
      "0.2530487804878049\n",
      "Iteration:  30\n",
      "[1 0 4 ... 1 3 0] [0 5 6 ... 1 3 5]\n",
      "0.3430975609756098\n",
      "Iteration:  40\n",
      "[0 0 4 ... 1 3 0] [0 5 6 ... 1 3 5]\n",
      "0.4197560975609756\n",
      "Iteration:  50\n",
      "[0 0 6 ... 1 2 0] [0 5 6 ... 1 3 5]\n",
      "0.48734146341463414\n",
      "Iteration:  60\n",
      "[0 0 6 ... 1 2 0] [0 5 6 ... 1 3 5]\n",
      "0.5387560975609756\n",
      "Iteration:  70\n",
      "[0 0 6 ... 1 3 0] [0 5 6 ... 1 3 5]\n",
      "0.5786829268292683\n",
      "Iteration:  80\n",
      "[0 0 6 ... 1 3 0] [0 5 6 ... 1 3 5]\n",
      "0.6098292682926829\n",
      "Iteration:  90\n",
      "[0 0 6 ... 1 3 0] [0 5 6 ... 1 3 5]\n",
      "0.6344390243902439\n",
      "Iteration:  100\n",
      "[0 0 6 ... 1 3 0] [0 5 6 ... 1 3 5]\n",
      "0.6558536585365854\n",
      "Iteration:  110\n",
      "[0 0 6 ... 1 3 0] [0 5 6 ... 1 3 5]\n",
      "0.6730731707317074\n",
      "Iteration:  120\n",
      "[0 0 6 ... 1 3 0] [0 5 6 ... 1 3 5]\n",
      "0.6880731707317073\n",
      "Iteration:  130\n",
      "[0 0 6 ... 1 3 0] [0 5 6 ... 1 3 5]\n",
      "0.7011219512195122\n",
      "Iteration:  140\n",
      "[0 0 6 ... 1 3 0] [0 5 6 ... 1 3 5]\n",
      "0.7132926829268292\n",
      "Iteration:  150\n",
      "[0 0 6 ... 1 3 0] [0 5 6 ... 1 3 5]\n",
      "0.7234390243902439\n",
      "Iteration:  160\n",
      "[0 0 6 ... 1 3 0] [0 5 6 ... 1 3 5]\n",
      "0.7329512195121951\n",
      "Iteration:  170\n",
      "[0 0 6 ... 1 3 0] [0 5 6 ... 1 3 5]\n",
      "0.7411951219512195\n",
      "Iteration:  180\n",
      "[0 0 6 ... 1 3 7] [0 5 6 ... 1 3 5]\n",
      "0.7494146341463415\n",
      "Iteration:  190\n",
      "[0 0 6 ... 1 3 7] [0 5 6 ... 1 3 5]\n",
      "0.7559512195121951\n",
      "Iteration:  200\n",
      "[0 0 6 ... 1 3 7] [0 5 6 ... 1 3 5]\n",
      "0.7631219512195122\n",
      "Iteration:  210\n",
      "[0 0 6 ... 1 3 7] [0 5 6 ... 1 3 5]\n",
      "0.7687073170731707\n",
      "Iteration:  220\n",
      "[0 0 6 ... 1 3 7] [0 5 6 ... 1 3 5]\n",
      "0.7745121951219512\n",
      "Iteration:  230\n",
      "[0 0 6 ... 1 3 7] [0 5 6 ... 1 3 5]\n",
      "0.7799512195121951\n",
      "Iteration:  240\n",
      "[0 0 6 ... 1 3 7] [0 5 6 ... 1 3 5]\n",
      "0.7842682926829269\n",
      "Iteration:  250\n",
      "[0 0 6 ... 1 3 7] [0 5 6 ... 1 3 5]\n",
      "0.7885609756097561\n",
      "Iteration:  260\n",
      "[0 0 6 ... 1 3 7] [0 5 6 ... 1 3 5]\n",
      "0.7924390243902439\n",
      "Iteration:  270\n",
      "[0 0 6 ... 1 3 7] [0 5 6 ... 1 3 5]\n",
      "0.7962926829268293\n",
      "Iteration:  280\n",
      "[0 0 6 ... 1 3 7] [0 5 6 ... 1 3 5]\n",
      "0.8001463414634147\n",
      "Iteration:  290\n",
      "[0 0 6 ... 1 3 7] [0 5 6 ... 1 3 5]\n",
      "0.8033414634146342\n",
      "Iteration:  300\n",
      "[0 0 6 ... 1 3 7] [0 5 6 ... 1 3 5]\n",
      "0.8064146341463415\n",
      "Iteration:  310\n",
      "[0 0 6 ... 1 3 7] [0 5 6 ... 1 3 5]\n",
      "0.8093658536585366\n",
      "Iteration:  320\n",
      "[0 0 6 ... 1 3 7] [0 5 6 ... 1 3 5]\n",
      "0.8122926829268293\n",
      "Iteration:  330\n",
      "[0 0 6 ... 1 3 7] [0 5 6 ... 1 3 5]\n",
      "0.8140731707317073\n",
      "Iteration:  340\n",
      "[0 0 6 ... 1 3 7] [0 5 6 ... 1 3 5]\n",
      "0.816560975609756\n",
      "Iteration:  350\n",
      "[0 0 6 ... 1 3 7] [0 5 6 ... 1 3 5]\n",
      "0.8184878048780487\n",
      "Iteration:  360\n",
      "[0 0 6 ... 1 3 7] [0 5 6 ... 1 3 5]\n",
      "0.8205365853658536\n",
      "Iteration:  370\n",
      "[0 0 6 ... 1 3 7] [0 5 6 ... 1 3 5]\n",
      "0.8223658536585365\n",
      "Iteration:  380\n",
      "[0 0 6 ... 1 3 7] [0 5 6 ... 1 3 5]\n",
      "0.8239756097560975\n",
      "Iteration:  390\n",
      "[0 0 6 ... 1 3 7] [0 5 6 ... 1 3 5]\n",
      "0.8258048780487804\n",
      "Iteration:  400\n",
      "[0 0 6 ... 1 3 7] [0 5 6 ... 1 3 5]\n",
      "0.8277560975609756\n",
      "Iteration:  410\n",
      "[0 0 6 ... 1 3 7] [0 5 6 ... 1 3 5]\n",
      "0.8295609756097561\n",
      "Iteration:  420\n",
      "[0 0 6 ... 1 3 7] [0 5 6 ... 1 3 5]\n",
      "0.8313170731707317\n",
      "Iteration:  430\n",
      "[0 0 6 ... 1 3 7] [0 5 6 ... 1 3 5]\n",
      "0.8331463414634146\n",
      "Iteration:  440\n",
      "[0 0 6 ... 1 3 7] [0 5 6 ... 1 3 5]\n",
      "0.834780487804878\n",
      "Iteration:  450\n",
      "[0 0 6 ... 1 3 7] [0 5 6 ... 1 3 5]\n",
      "0.8360975609756097\n",
      "Iteration:  460\n",
      "[0 0 6 ... 1 3 7] [0 5 6 ... 1 3 5]\n",
      "0.8379512195121951\n",
      "Iteration:  470\n",
      "[0 0 6 ... 1 3 7] [0 5 6 ... 1 3 5]\n",
      "0.8388536585365853\n",
      "Iteration:  480\n",
      "[0 0 6 ... 1 3 7] [0 5 6 ... 1 3 5]\n",
      "0.8404390243902439\n",
      "Iteration:  490\n",
      "[0 0 6 ... 1 3 7] [0 5 6 ... 1 3 5]\n",
      "0.8421219512195122\n"
     ]
    }
   ],
   "source": [
    "W1, b1, W2, b2 = gradient_descent(X_train, Y_train, 0.10, 500)"
   ]
  },
  {
   "cell_type": "code",
   "execution_count": 7,
   "metadata": {
    "execution": {
     "iopub.execute_input": "2025-01-04T13:09:41.886579Z",
     "iopub.status.busy": "2025-01-04T13:09:41.885553Z",
     "iopub.status.idle": "2025-01-04T13:09:41.888134Z",
     "shell.execute_reply": "2025-01-04T13:09:41.888646Z",
     "shell.execute_reply.started": "2025-01-04T12:52:28.798509Z"
    },
    "papermill": {
     "duration": 0.030405,
     "end_time": "2025-01-04T13:09:41.888802",
     "exception": false,
     "start_time": "2025-01-04T13:09:41.858397",
     "status": "completed"
    },
    "tags": []
   },
   "outputs": [],
   "source": [
    "def make_predictions(X, W1, b1, W2, b2):\n",
    "    _, _, _, A2 = forward_prop(W1, b1, W2, b2, X)\n",
    "    predictions = get_predictions(A2)\n",
    "    return predictions\n",
    "\n",
    "def test_prediction(index, W1, b1, W2, b2):\n",
    "    current_image = X_train[:, index, None]\n",
    "    prediction = make_predictions(X_train[:, index, None], W1, b1, W2, b2)\n",
    "    label = Y_train[index]\n",
    "    print(\"Prediction: \", prediction)\n",
    "    print(\"Label: \", label)\n",
    "    \n",
    "    current_image = current_image.reshape((28, 28)) * 255\n",
    "    plt.gray()\n",
    "    plt.imshow(current_image, interpolation='nearest')\n",
    "    plt.show()"
   ]
  },
  {
   "cell_type": "code",
   "execution_count": 8,
   "metadata": {
    "execution": {
     "iopub.execute_input": "2025-01-04T13:09:41.933470Z",
     "iopub.status.busy": "2025-01-04T13:09:41.932243Z",
     "iopub.status.idle": "2025-01-04T13:09:42.529372Z",
     "shell.execute_reply": "2025-01-04T13:09:42.528909Z",
     "shell.execute_reply.started": "2025-01-04T12:52:28.808475Z"
    },
    "papermill": {
     "duration": 0.621367,
     "end_time": "2025-01-04T13:09:42.529509",
     "exception": false,
     "start_time": "2025-01-04T13:09:41.908142",
     "status": "completed"
    },
    "tags": []
   },
   "outputs": [
    {
     "name": "stdout",
     "output_type": "stream",
     "text": [
      "Prediction:  [0]\n",
      "Label:  0\n"
     ]
    },
    {
     "data": {
      "image/png": "[encoded data removed]",
      "text/plain": [
       "<Figure size 432x288 with 1 Axes>"
      ]
     },
     "metadata": {
      "needs_background": "light"
     },
     "output_type": "display_data"
    },
    {
     "name": "stdout",
     "output_type": "stream",
     "text": [
      "Prediction:  [0]\n",
      "Label:  5\n"
     ]
    },
    {
     "data": {
      "image/png": "[encoded data removed]",
      "text/plain": [
       "<Figure size 432x288 with 1 Axes>"
      ]
     },
     "metadata": {
      "needs_background": "light"
     },
     "output_type": "display_data"
    },
    {
     "name": "stdout",
     "output_type": "stream",
     "text": [
      "Prediction:  [6]\n",
      "Label:  6\n"
     ]
    },
    {
     "data": {
      "image/png": "[encoded data removed]",
      "text/plain": [
       "<Figure size 432x288 with 1 Axes>"
      ]
     },
     "metadata": {
      "needs_background": "light"
     },
     "output_type": "display_data"
    },
    {
     "name": "stdout",
     "output_type": "stream",
     "text": [
      "Prediction:  [4]\n",
      "Label:  4\n"
     ]
    },
    {
     "data": {
      "image/png": "[encoded data removed]",
      "text/plain": [
       "<Figure size 432x288 with 1 Axes>"
      ]
     },
     "metadata": {
      "needs_background": "light"
     },
     "output_type": "display_data"
    }
   ],
   "source": [
    "test_prediction(0, W1, b1, W2, b2)\n",
    "test_prediction(1, W1, b1, W2, b2)\n",
    "test_prediction(2, W1, b1, W2, b2)\n",
    "test_prediction(3, W1, b1, W2, b2)"
   ]
  },
  {
   "cell_type": "code",
   "execution_count": 9,
   "metadata": {
    "execution": {
     "iopub.execute_input": "2025-01-04T13:09:42.579817Z",
     "iopub.status.busy": "2025-01-04T13:09:42.578960Z",
     "iopub.status.idle": "2025-01-04T13:09:42.589539Z",
     "shell.execute_reply": "2025-01-04T13:09:42.590145Z",
     "shell.execute_reply.started": "2025-01-04T12:52:29.383264Z"
    },
    "papermill": {
     "duration": 0.038585,
     "end_time": "2025-01-04T13:09:42.590325",
     "exception": false,
     "start_time": "2025-01-04T13:09:42.551740",
     "status": "completed"
    },
    "tags": []
   },
   "outputs": [
    {
     "name": "stdout",
     "output_type": "stream",
     "text": [
      "[9 7 5 0 9 1 9 4 2 2 7 5 0 9 9 4 9 1 7 7 6 4 7 6 1 0 4 9 6 7 2 9 0 7 9 1 6\n",
      " 1 4 1 8 1 5 1 5 8 4 7 1 4 9 9 1 4 8 8 3 8 1 3 7 9 2 4 3 2 9 2 6 3 4 3 7 9\n",
      " 4 0 6 7 6 0 6 7 9 0 3 8 1 3 3 1 4 4 8 3 9 9 1 5 2 6 9 3 0 6 2 9 8 5 8 0 1\n",
      " 3 4 9 0 9 6 9 7 3 3 0 2 8 6 0 6 3 8 2 5 0 3 1 9 5 7 6 7 8 5 2 5 6 8 2 8 9\n",
      " 9 1 1 1 0 5 4 0 5 3 4 0 6 6 6 8 4 3 8 0 1 7 3 8 1 2 9 0 8 9 2 0 4 8 0 4 6\n",
      " 5 0 4 2 8 6 3 2 0 4 5 3 5 7 7 8 4 9 2 8 1 4 9 5 5 0 5 2 6 0 6 3 0 1 5 9 1\n",
      " 8 0 4 2 8 1 4 0 0 0 3 5 8 3 4 1 7 5 8 1 6 1 5 9 4 4 1 1 3 1 0 2 8 4 9 1 0\n",
      " 0 6 3 6 8 7 3 6 8 5 1 0 2 3 9 2 3 5 4 5 9 9 6 7 0 9 9 0 7 5 6 0 5 1 1 9 1\n",
      " 4 8 3 4 6 8 6 7 6 7 5 4 1 4 6 1 9 9 5 1 8 5 2 4 8 8 4 3 8 0 4 1 1 0 3 3 1\n",
      " 2 3 9 3 0 8 5 4 2 1 5 8 0 3 7 2 6 8 8 6 2 8 2 2 9 6 5 6 1 3 3 3 3 5 1 6 7\n",
      " 1 6 3 8 7 7 4 9 2 0 3 1 5 0 2 8 4 2 0 2 4 2 4 7 6 9 9 4 2 1 8 7 8 2 9 7 9\n",
      " 4 1 3 5 3 6 0 3 1 9 6 8 9 3 9 9 7 9 0 0 0 1 2 2 0 1 4 9 6 4 3 5 1 4 8 2 5\n",
      " 5 5 4 6 7 9 7 6 1 2 4 0 6 2 1 1 3 2 5 4 8 3 4 8 3 1 9 6 9 9 6 3 6 4 2 0 8\n",
      " 6 3 8 9 5 7 2 3 3 6 4 0 7 1 3 3 9 9 8 7 7 6 2 6 3 1 0 0 1 9 3 4 8 2 6 9 4\n",
      " 6 2 6 2 6 1 7 7 9 9 7 6 8 4 6 1 9 6 1 5 4 6 9 5 7 1 5 7 4 6 1 0 4 5 8 2 0\n",
      " 1 6 4 9 1 6 8 5 4 8 4 4 0 8 4 8 9 7 1 9 2 0 7 1 1 3 3 1 7 1 9 4 3 6 2 2 6\n",
      " 0 3 3 1 4 0 1 8 2 2 6 5 1 4 1 5 2 2 2 8 5 7 8 7 1 7 4 4 1 1 1 7 1 7 1 6 7\n",
      " 1 1 3 6 1 9 9 4 1 1 3 2 7 7 1 7 6 7 6 2 1 1 2 0 9 8 4 2 4 3 1 4 0 1 8 0 5\n",
      " 3 1 2 5 7 8 5 4 0 3 6 9 3 7 9 1 2 0 7 6 6 2 3 7 6 2 1 9 0 2 9 2 3 8 3 8 3\n",
      " 1 9 6 6 5 2 6 1 3 0 4 9 3 7 1 6 6 9 2 7 7 9 4 4 4 1 9 9 1 5 3 8 7 6 3 7 3\n",
      " 1 7 1 8 1 2 9 8 3 1 1 4 8 3 1 9 0 2 0 1 0 3 4 8 6 2 8 1 2 1 1 5 9 3 0 2 7\n",
      " 6 6 3 6 7 0 7 0 1 8 5 7 1 1 3 4 1 4 7 4 0 6 9 0 4 7 1 2 1 1 4 4 3 7 2 0 8\n",
      " 1 9 3 0 3 4 8 3 5 7 3 6 7 6 7 9 4 0 8 8 6 5 9 6 0 0 2 9 8 1 8 5 8 0 8 5 6\n",
      " 9 5 2 8 5 2 0 0 1 7 8 2 9 0 7 3 0 5 8 7 3 0 8 8 1 8 9 7 7 8 3 8 9 2 3 6 7\n",
      " 5 6 6 5 8 7 5 8 7 7 0 4 6 2 7 7 6 0 8 1 0 8 2 2 6 1 0 2 7 9 9 3 2 5 7 3 2\n",
      " 9 5 0 0 9 1 3 1 2 2 7 2 6 3 7 1 7 5 9 4 4 7 1 8 7 3 2 5 1 9 1 6 3 3 2 7 0\n",
      " 6 5 2 4 7 0 3 1 4 1 0 5 2 1 6 7 3 8 5 1 9 2 7 5 9 7 3 7 4 0 4 9 6 3 7 1 7\n",
      " 2] [9 7 5 0 9 1 9 4 2 2 7 9 0 9 9 4 9 1 7 7 6 4 7 6 1 0 4 9 4 7 2 9 0 7 9 1 6\n",
      " 1 4 1 8 1 3 1 5 0 4 7 1 4 9 7 1 4 8 8 3 8 1 3 7 4 2 4 3 3 9 2 6 3 4 3 7 9\n",
      " 4 0 6 7 6 0 5 7 9 0 3 3 1 3 3 1 4 4 8 3 9 8 1 8 8 6 9 3 0 6 2 9 8 5 8 0 1\n",
      " 3 4 9 0 4 6 4 9 3 3 0 2 8 6 0 6 3 8 2 8 0 3 1 9 5 7 6 7 2 5 2 5 6 8 2 8 9\n",
      " 8 1 1 1 0 9 4 0 5 3 2 0 6 0 6 5 4 3 8 0 1 7 3 9 1 2 9 0 5 9 2 0 4 8 0 4 6\n",
      " 5 6 4 2 8 6 3 2 0 4 5 8 5 7 9 0 4 9 2 8 1 4 7 5 8 0 5 2 6 0 5 3 0 1 5 9 1\n",
      " 8 6 4 2 8 1 4 0 0 0 3 5 8 3 4 1 7 3 5 1 6 1 5 9 4 4 1 1 3 1 0 2 8 4 9 1 0\n",
      " 0 6 3 6 8 7 3 6 8 5 1 0 1 3 9 2 3 5 4 5 9 9 6 7 0 9 9 0 7 5 6 0 5 1 9 9 1\n",
      " 4 8 3 4 6 8 6 7 6 7 5 4 1 4 6 8 9 4 8 1 8 5 8 4 8 8 4 3 8 0 4 1 1 0 3 3 1\n",
      " 2 5 9 3 0 8 5 4 2 1 5 5 0 3 7 2 6 8 8 6 8 8 2 2 9 6 5 6 1 3 3 3 2 5 1 6 3\n",
      " 1 5 3 5 9 7 4 3 2 0 3 1 8 0 2 8 9 2 0 2 4 2 4 7 6 9 9 4 2 1 5 7 8 2 9 7 9\n",
      " 4 1 3 5 3 6 0 3 1 8 4 2 9 3 9 9 7 9 0 0 0 1 2 2 0 1 4 9 2 4 3 8 1 4 8 2 5\n",
      " 5 5 4 6 7 9 7 6 1 2 4 5 6 2 8 1 3 2 5 4 7 3 4 2 3 1 9 6 9 7 6 3 2 2 2 0 5\n",
      " 6 3 8 9 5 7 2 3 3 6 4 0 7 1 3 3 9 9 8 7 7 4 2 6 3 1 0 0 1 4 3 4 5 2 6 4 4\n",
      " 5 2 6 2 6 1 7 7 9 9 7 6 8 9 6 1 9 6 1 5 4 6 9 5 7 1 5 7 4 6 1 0 4 5 8 2 0\n",
      " 1 6 4 9 1 6 8 5 4 8 4 4 5 8 4 8 9 7 1 9 2 5 7 1 1 3 3 1 7 1 7 4 3 6 2 2 6\n",
      " 0 3 3 1 4 0 9 8 7 2 6 2 1 4 1 4 2 2 2 7 5 8 8 7 1 7 9 4 1 1 1 7 1 7 1 6 7\n",
      " 1 1 3 5 1 9 9 4 1 1 3 2 7 7 1 7 6 7 6 2 1 1 8 2 9 8 4 2 4 3 8 4 0 1 8 0 5\n",
      " 3 2 2 5 7 1 5 4 0 3 6 9 3 7 9 1 2 0 7 2 6 2 3 7 6 2 1 9 0 3 9 2 0 8 3 8 3\n",
      " 1 9 6 6 8 2 6 1 1 0 4 9 3 7 1 6 6 9 2 9 7 9 4 4 4 1 7 9 1 5 3 8 7 6 3 7 3\n",
      " 1 7 1 8 1 2 9 8 8 1 1 4 8 3 1 9 0 2 0 8 0 3 4 8 6 2 8 1 3 1 2 8 9 3 0 2 7\n",
      " 5 8 3 2 7 0 7 0 1 2 5 7 1 1 8 4 1 4 7 4 7 5 9 0 4 7 1 2 1 1 4 5 3 7 6 0 8\n",
      " 1 9 3 0 9 4 1 3 8 1 3 6 7 6 7 9 4 0 8 5 6 5 9 5 0 0 2 9 8 1 5 5 5 0 8 8 6\n",
      " 9 5 2 8 5 2 0 0 1 7 5 2 9 0 7 3 0 5 8 7 5 0 8 8 1 3 9 7 7 8 8 2 9 2 3 6 7\n",
      " 5 6 6 5 8 7 5 3 7 7 0 4 6 2 7 7 6 0 0 1 0 8 2 2 6 1 0 2 7 9 9 3 6 5 7 3 2\n",
      " 9 5 0 0 9 1 3 1 2 2 7 2 6 1 5 1 7 8 9 4 4 7 1 8 7 3 2 5 2 7 9 6 5 3 2 7 0\n",
      " 6 5 2 4 7 0 9 1 4 1 0 5 2 1 6 7 3 8 5 1 9 2 7 5 9 7 3 7 4 2 4 7 0 3 7 8 7\n",
      " 2]\n"
     ]
    },
    {
     "data": {
      "text/plain": [
       "0.863"
      ]
     },
     "execution_count": 9,
     "metadata": {},
     "output_type": "execute_result"
    }
   ],
   "source": [
    "dev_predictions = make_predictions(X_dev, W1, b1, W2, b2)\n",
    "get_accuracy(dev_predictions, Y_dev)"
   ]
  }
 ],
 "metadata": {
  "kaggle": {
   "accelerator": "none",
   "dataSources": [
    {
     "databundleVersionId": 861823,
     "sourceId": 3004,
     "sourceType": "competition"
    }
   ],
   "dockerImageVersionId": 30035,
   "isGpuEnabled": false,
   "isInternetEnabled": false,
   "language": "python",
   "sourceType": "notebook"
  },
  "kernelspec": {
   "display_name": "Python 3",
   "language": "python",
   "name": "python3"
  },
  "language_info": {
   "codemirror_mode": {
    "name": "ipython",
    "version": 3
   },
   "file_extension": ".py",
   "mimetype": "text/x-python",
   "name": "python",
   "nbconvert_exporter": "python",
   "pygments_lexer": "ipython3",
   "version": "3.7.6"
  },
  "papermill": {
   "duration": 53.621949,
   "end_time": "2025-01-04T13:09:42.725362",
   "environment_variables": {},
   "exception": null,
   "input_path": "__notebook__.ipynb",
   "output_path": "__notebook__.ipynb",
   "parameters": {},
   "start_time": "2025-01-04T13:08:49.103413",
   "version": "2.1.0"
  }
 },
 "nbformat": 4,
 "nbformat_minor": 4
}
